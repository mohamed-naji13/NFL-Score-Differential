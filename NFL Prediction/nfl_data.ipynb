{
 "cells": [
  {
   "cell_type": "code",
   "execution_count": 1,
   "id": "b6402c57",
   "metadata": {},
   "outputs": [
    {
     "name": "stdout",
     "output_type": "stream",
     "text": [
      "⚠️ Elo dataset unavailable — skipping Elo merge.\n",
      "\n",
      "🏈 Fetching season 2015...\n"
     ]
    },
    {
     "name": "stderr",
     "output_type": "stream",
     "text": [
      "C:\\Users\\moham\\AppData\\Local\\Temp\\ipykernel_1872\\1700319773.py:123: FutureWarning: The default dtype for empty Series will be 'object' instead of 'float64' in a future version. Specify a dtype explicitly to silence this warning.\n",
      "  g[\"venue_code\"]=pd.factorize(g.get(\"stadium\",pd.Series()))[0]\n"
     ]
    },
    {
     "name": "stdout",
     "output_type": "stream",
     "text": [
      "Downcasting floats.\n",
      "✅ Season 2015 OK (256 games)\n",
      "\n",
      "🏈 Fetching season 2016...\n"
     ]
    },
    {
     "name": "stderr",
     "output_type": "stream",
     "text": [
      "C:\\Users\\moham\\AppData\\Local\\Temp\\ipykernel_1872\\1700319773.py:123: FutureWarning: The default dtype for empty Series will be 'object' instead of 'float64' in a future version. Specify a dtype explicitly to silence this warning.\n",
      "  g[\"venue_code\"]=pd.factorize(g.get(\"stadium\",pd.Series()))[0]\n"
     ]
    },
    {
     "name": "stdout",
     "output_type": "stream",
     "text": [
      "Downcasting floats.\n",
      "✅ Season 2016 OK (256 games)\n",
      "\n",
      "🏈 Fetching season 2017...\n"
     ]
    },
    {
     "name": "stderr",
     "output_type": "stream",
     "text": [
      "C:\\Users\\moham\\AppData\\Local\\Temp\\ipykernel_1872\\1700319773.py:123: FutureWarning: The default dtype for empty Series will be 'object' instead of 'float64' in a future version. Specify a dtype explicitly to silence this warning.\n",
      "  g[\"venue_code\"]=pd.factorize(g.get(\"stadium\",pd.Series()))[0]\n"
     ]
    },
    {
     "name": "stdout",
     "output_type": "stream",
     "text": [
      "Downcasting floats.\n",
      "✅ Season 2017 OK (256 games)\n",
      "\n",
      "🏈 Fetching season 2018...\n"
     ]
    },
    {
     "name": "stderr",
     "output_type": "stream",
     "text": [
      "C:\\Users\\moham\\AppData\\Local\\Temp\\ipykernel_1872\\1700319773.py:123: FutureWarning: The default dtype for empty Series will be 'object' instead of 'float64' in a future version. Specify a dtype explicitly to silence this warning.\n",
      "  g[\"venue_code\"]=pd.factorize(g.get(\"stadium\",pd.Series()))[0]\n"
     ]
    },
    {
     "name": "stdout",
     "output_type": "stream",
     "text": [
      "Downcasting floats.\n",
      "✅ Season 2018 OK (256 games)\n",
      "\n",
      "🏈 Fetching season 2019...\n"
     ]
    },
    {
     "name": "stderr",
     "output_type": "stream",
     "text": [
      "C:\\Users\\moham\\AppData\\Local\\Temp\\ipykernel_1872\\1700319773.py:123: FutureWarning: The default dtype for empty Series will be 'object' instead of 'float64' in a future version. Specify a dtype explicitly to silence this warning.\n",
      "  g[\"venue_code\"]=pd.factorize(g.get(\"stadium\",pd.Series()))[0]\n"
     ]
    },
    {
     "name": "stdout",
     "output_type": "stream",
     "text": [
      "Downcasting floats.\n",
      "✅ Season 2019 OK (256 games)\n",
      "\n",
      "🏈 Fetching season 2020...\n"
     ]
    },
    {
     "name": "stderr",
     "output_type": "stream",
     "text": [
      "C:\\Users\\moham\\AppData\\Local\\Temp\\ipykernel_1872\\1700319773.py:123: FutureWarning: The default dtype for empty Series will be 'object' instead of 'float64' in a future version. Specify a dtype explicitly to silence this warning.\n",
      "  g[\"venue_code\"]=pd.factorize(g.get(\"stadium\",pd.Series()))[0]\n"
     ]
    },
    {
     "name": "stdout",
     "output_type": "stream",
     "text": [
      "Downcasting floats.\n",
      "✅ Season 2020 OK (256 games)\n",
      "\n",
      "🏈 Fetching season 2021...\n"
     ]
    },
    {
     "name": "stderr",
     "output_type": "stream",
     "text": [
      "C:\\Users\\moham\\AppData\\Local\\Temp\\ipykernel_1872\\1700319773.py:123: FutureWarning: The default dtype for empty Series will be 'object' instead of 'float64' in a future version. Specify a dtype explicitly to silence this warning.\n",
      "  g[\"venue_code\"]=pd.factorize(g.get(\"stadium\",pd.Series()))[0]\n"
     ]
    },
    {
     "name": "stdout",
     "output_type": "stream",
     "text": [
      "Downcasting floats.\n",
      "✅ Season 2021 OK (272 games)\n",
      "\n",
      "🏈 Fetching season 2022...\n"
     ]
    },
    {
     "name": "stderr",
     "output_type": "stream",
     "text": [
      "C:\\Users\\moham\\AppData\\Local\\Temp\\ipykernel_1872\\1700319773.py:123: FutureWarning: The default dtype for empty Series will be 'object' instead of 'float64' in a future version. Specify a dtype explicitly to silence this warning.\n",
      "  g[\"venue_code\"]=pd.factorize(g.get(\"stadium\",pd.Series()))[0]\n"
     ]
    },
    {
     "name": "stdout",
     "output_type": "stream",
     "text": [
      "Downcasting floats.\n",
      "✅ Season 2022 OK (271 games)\n",
      "\n",
      "🏈 Fetching season 2023...\n"
     ]
    },
    {
     "name": "stderr",
     "output_type": "stream",
     "text": [
      "C:\\Users\\moham\\AppData\\Local\\Temp\\ipykernel_1872\\1700319773.py:123: FutureWarning: The default dtype for empty Series will be 'object' instead of 'float64' in a future version. Specify a dtype explicitly to silence this warning.\n",
      "  g[\"venue_code\"]=pd.factorize(g.get(\"stadium\",pd.Series()))[0]\n"
     ]
    },
    {
     "name": "stdout",
     "output_type": "stream",
     "text": [
      "Downcasting floats.\n",
      "✅ Season 2023 OK (272 games)\n",
      "\n",
      "🏈 Fetching season 2024...\n"
     ]
    },
    {
     "name": "stderr",
     "output_type": "stream",
     "text": [
      "C:\\Users\\moham\\AppData\\Local\\Temp\\ipykernel_1872\\1700319773.py:123: FutureWarning: The default dtype for empty Series will be 'object' instead of 'float64' in a future version. Specify a dtype explicitly to silence this warning.\n",
      "  g[\"venue_code\"]=pd.factorize(g.get(\"stadium\",pd.Series()))[0]\n"
     ]
    },
    {
     "name": "stdout",
     "output_type": "stream",
     "text": [
      "Downcasting floats.\n",
      "✅ Season 2024 OK (272 games)\n",
      "\n",
      "🏈 Fetching season 2025...\n"
     ]
    },
    {
     "name": "stderr",
     "output_type": "stream",
     "text": [
      "C:\\Users\\moham\\AppData\\Local\\Temp\\ipykernel_1872\\1700319773.py:123: FutureWarning: The default dtype for empty Series will be 'object' instead of 'float64' in a future version. Specify a dtype explicitly to silence this warning.\n",
      "  g[\"venue_code\"]=pd.factorize(g.get(\"stadium\",pd.Series()))[0]\n"
     ]
    },
    {
     "name": "stdout",
     "output_type": "stream",
     "text": [
      "⚠️ Skipped 2025: HTTP Error 404: Not Found\n",
      "\n",
      "✅ Saved: nfl_game_results_full_model.xlsx\n",
      "Rows: 2623, Columns: 79\n",
      "Columns: ['game_id', 'season', 'game_type', 'week', 'gameday', 'weekday', 'gametime', 'away_team', 'away_score', 'home_team', 'home_score', 'location', 'result', 'total', 'overtime', 'old_game_id', 'gsis', 'nfl_detail_id', 'pfr', 'pff', 'espn', 'ftn', 'away_rest', 'home_rest', 'away_moneyline']\n"
     ]
    }
   ],
   "source": [
    "import pandas as pd\n",
    "import numpy as np\n",
    "from datetime import datetime, timezone\n",
    "from math import radians, sin, cos, asin, sqrt\n",
    "from nfl_data_py import import_schedules, import_weekly_data\n",
    "\n",
    "# Optional: try FiveThirtyEight Elo\n",
    "def _try_load_elo():\n",
    "    try:\n",
    "        url = \"https://projects.fivethirtyeight.com/nfl-api/nfl_elo_latest.csv\"\n",
    "        elo = pd.read_csv(url)\n",
    "        elo[\"season\"] = elo[\"season\"].astype(int)\n",
    "        elo.rename(columns={\"team1\": \"home_team\", \"team2\": \"away_team\",\n",
    "                            \"elo1_pre\": \"elo_home\", \"elo2_pre\": \"elo_away\"}, inplace=True)\n",
    "        return elo[[\"season\", \"home_team\", \"away_team\", \"elo_home\", \"elo_away\"]]\n",
    "    except Exception:\n",
    "        print(\"⚠️ Elo dataset unavailable — skipping Elo merge.\")\n",
    "        return pd.DataFrame(columns=[\"season\", \"home_team\", \"away_team\", \"elo_home\", \"elo_away\"])\n",
    "\n",
    "# Team home-market coordinates (for travel miles)\n",
    "TEAM_COORDS = {\n",
    "    \"BUF\": (42.7738, -78.7868), \"MIA\": (25.9580, -80.2389), \"NE\": (42.0909, -71.2643), \"NYJ\": (40.8136, -74.0744),\n",
    "    \"BAL\": (39.2780, -76.6227), \"CIN\": (39.0955, -84.5161), \"CLE\": (41.5061, -81.6995), \"PIT\": (40.4468, -80.0158),\n",
    "    \"HOU\": (29.6847, -95.4107), \"IND\": (39.7601, -86.1639), \"JAX\": (30.3239, -81.6373), \"TEN\": (36.1664, -86.7713),\n",
    "    \"DEN\": (39.7439, -105.0201), \"KC\": (39.0489, -94.4839), \"LV\": (36.0908, -115.1830), \"LAC\": (33.8644, -118.2619),\n",
    "    \"DAL\": (32.7473, -97.0945), \"NYG\": (40.8136, -74.0744), \"PHI\": (39.9008, -75.1675), \"WAS\": (38.9077, -76.8645),\n",
    "    \"CHI\": (41.8623, -87.6167), \"DET\": (42.3390, -83.0456), \"GB\": (44.5013, -88.0622), \"MIN\": (44.9740, -93.2581),\n",
    "    \"ATL\": (33.7554, -84.4008), \"CAR\": (35.2251, -80.8526), \"NO\": (29.9511, -90.0812), \"TB\": (27.9759, -82.5033),\n",
    "    \"ARI\": (33.5276, -112.2626), \"LAR\": (34.0141, -118.2879), \"SEA\": (47.5952, -122.3316), \"SF\": (37.4030, -121.9700),\n",
    "}\n",
    "\n",
    "# ---------- UTILITIES ----------\n",
    "def haversine_miles(lat1, lon1, lat2, lon2):\n",
    "    lat1, lon1, lat2, lon2 = map(radians, [lat1,lon1,lat2,lon2])\n",
    "    a = sin((lat2-lat1)/2)**2 + cos(lat1)*cos(lat2)*sin((lon2-lon1)/2)**2\n",
    "    return 3958.8 * 2 * asin(sqrt(a))\n",
    "\n",
    "def _clean_weather(df):\n",
    "    for col in [\"temp\", \"wind\"]:\n",
    "        if col in df.columns:\n",
    "            df[col] = pd.to_numeric(df[col], errors=\"coerce\")\n",
    "    df[\"temp\"] = df[\"temp\"].fillna(df[\"temp\"].mean())\n",
    "    df[\"wind\"] = df[\"wind\"].fillna(0)\n",
    "    df[\"cold_game\"] = (df[\"temp\"] < 40).astype(int)\n",
    "    df[\"windy\"] = (df[\"wind\"] > 15).astype(int)\n",
    "    return df\n",
    "\n",
    "def _normalize_weekly(df):\n",
    "    rename = {\"season_year\":\"season\",\"team_abbr\":\"team\",\"recent_team\":\"team\",\"season_type\":\"game_type\"}\n",
    "    df = df.rename(columns={k:v for k,v in rename.items() if k in df.columns})\n",
    "    for c in [\"season\",\"week\",\"team\",\"player_id\"]:\n",
    "        if c not in df.columns: df[c]=np.nan\n",
    "    return df\n",
    "\n",
    "def _team_week_agg(weekly):\n",
    "    weekly=_normalize_weekly(weekly)\n",
    "    rename={\"rush_yds\":\"rushing_yards\",\"pass_yds\":\"passing_yards\",\"fantasy_points\":\"points\"}\n",
    "    weekly=weekly.rename(columns=rename)\n",
    "    cols=[c for c in [\"rushing_yards\",\"passing_yards\",\"points\",\"field_goals_made\"] if c in weekly.columns]\n",
    "    agg=weekly.groupby([\"team\",\"season\",\"week\"],as_index=False)[cols].sum(min_count=1)\n",
    "    active=weekly.groupby([\"team\",\"season\",\"week\"])[\"player_id\"].nunique().reset_index(name=\"active_players\")\n",
    "    starters=pd.DataFrame(columns=[\"team\",\"season\",\"week\",\"starter_ids\"])\n",
    "    if \"starter\" in weekly.columns:\n",
    "        starters=(weekly[weekly[\"starter\"]==True]\n",
    "                  .groupby([\"team\",\"season\",\"week\"])[\"player_id\"]\n",
    "                  .apply(lambda x: \",\".join(sorted(set(map(str,x))))).reset_index(name=\"starter_ids\"))\n",
    "    out=agg.merge(active,on=[\"team\",\"season\",\"week\"],how=\"left\").merge(starters,on=[\"team\",\"season\",\"week\"],how=\"left\")\n",
    "    return out\n",
    "\n",
    "def _rolling_avgs(team_df):\n",
    "    team_df=team_df.sort_values([\"team\",\"season\",\"week\"])\n",
    "    for c in [\"rushing_yards\",\"passing_yards\",\"points\",\"field_goals_made\"]:\n",
    "        if c in team_df.columns:\n",
    "            team_df[f\"avg_{c}\"]=(team_df.groupby([\"team\",\"season\"])[c]\n",
    "                                 .expanding().mean().reset_index(level=[0,1],drop=True))\n",
    "    return team_df\n",
    "\n",
    "def _rest_days(g):\n",
    "    g=g.copy()\n",
    "    g[\"gameday\"]=pd.to_datetime(g[\"gameday\"],errors=\"coerce\")\n",
    "    long=pd.concat([\n",
    "        g[[\"game_id\",\"season\",\"week\",\"gameday\",\"home_team\"]].rename(columns={\"home_team\":\"team\"}),\n",
    "        g[[\"game_id\",\"season\",\"week\",\"gameday\",\"away_team\"]].rename(columns={\"away_team\":\"team\"})\n",
    "    ])\n",
    "    long=long.sort_values([\"team\",\"season\",\"week\"])\n",
    "    long[\"prev_gameday\"]=long.groupby(\"team\")[\"gameday\"].shift(1)\n",
    "    long[\"rest_days\"]=(long[\"gameday\"]-long[\"prev_gameday\"]).dt.days.fillna(9)\n",
    "    long[\"short_week\"]=(long[\"rest_days\"]<7).astype(int)\n",
    "    home=long.merge(g[[\"game_id\",\"home_team\"]],left_on=[\"game_id\",\"team\"],right_on=[\"game_id\",\"home_team\"],how=\"inner\")\n",
    "    away=long.merge(g[[\"game_id\",\"away_team\"]],left_on=[\"game_id\",\"team\"],right_on=[\"game_id\",\"away_team\"],how=\"inner\")\n",
    "    home=home.rename(columns={\"rest_days\":\"home_rest_days\",\"short_week\":\"home_short_week\"})[[\"game_id\",\"home_rest_days\",\"home_short_week\"]]\n",
    "    away=away.rename(columns={\"rest_days\":\"away_rest_days\",\"short_week\":\"away_short_week\"})[[\"game_id\",\"away_rest_days\",\"away_short_week\"]]\n",
    "    return g[[\"game_id\"]].merge(home,on=\"game_id\",how=\"left\").merge(away,on=\"game_id\",how=\"left\")\n",
    "\n",
    "def _travel(g):\n",
    "    g=g.copy()\n",
    "    def coord(t): return TEAM_COORDS.get(t,(np.nan,np.nan))\n",
    "    g[\"home_lat\"],g[\"home_lon\"]=zip(*g[\"home_team\"].map(coord))\n",
    "    g[\"away_lat\"],g[\"away_lon\"]=zip(*g[\"away_team\"].map(coord))\n",
    "    g[\"home_travel_miles\"]=0\n",
    "    g[\"away_travel_miles\"]=g.apply(\n",
    "        lambda r: haversine_miles(r[\"away_lat\"],r[\"away_lon\"],r[\"home_lat\"],r[\"home_lon\"])\n",
    "        if pd.notnull(r[\"home_lat\"]) and pd.notnull(r[\"away_lat\"]) else np.nan,axis=1)\n",
    "    return g[[\"game_id\",\"home_travel_miles\",\"away_travel_miles\"]]\n",
    "\n",
    "# ---------- MAIN BUILDER ----------\n",
    "def build_nfl_dataset(start_year=2015,end_year=2025,outfile=\"nfl_game_results_full_model.xlsx\"):\n",
    "    elo_df=_try_load_elo()\n",
    "    all=[]\n",
    "    for season in range(start_year,end_year+1):\n",
    "        print(f\"\\n🏈 Fetching season {season}...\")\n",
    "        try:\n",
    "            s=import_schedules([season])\n",
    "            g=s[(s[\"game_type\"]==\"REG\")&(s[\"home_score\"].notna())].copy()\n",
    "            if g.empty: continue\n",
    "            g[\"game_datetime\"]=pd.to_datetime(g[\"gameday\"],errors=\"coerce\",utc=True)\n",
    "            g=_clean_weather(g)\n",
    "            g[\"score_diff\"]=g[\"home_score\"]-g[\"away_score\"]\n",
    "            g[\"home_win\"]=(g[\"score_diff\"]>0).astype(int)\n",
    "            g[\"away_win\"]=(g[\"score_diff\"]<0).astype(int)\n",
    "            g[\"home_favored\"]=(g.get(\"spread_line\",pd.Series(0))<0).astype(int)\n",
    "            g[\"expected_margin\"]=-g.get(\"spread_line\",pd.Series(np.nan))\n",
    "            g[\"venue_code\"]=pd.factorize(g.get(\"stadium\",pd.Series()))[0]\n",
    "\n",
    "            # Add Elo if available\n",
    "            if not elo_df.empty:\n",
    "                elo_season=elo_df[elo_df[\"season\"]==season]\n",
    "                g=g.merge(elo_season,on=[\"season\",\"home_team\",\"away_team\"],how=\"left\")\n",
    "                if \"elo_home\" in g.columns and \"elo_away\" in g.columns:\n",
    "                    g[\"elo_diff\"]=g[\"elo_home\"]-g[\"elo_away\"]\n",
    "                    g[\"elo_avg\"]=g[[\"elo_home\",\"elo_away\"]].mean(axis=1)\n",
    "\n",
    "            w=import_weekly_data([season])\n",
    "            w=_team_week_agg(w)\n",
    "            w=_rolling_avgs(w)\n",
    "            for side in [\"home\",\"away\"]:\n",
    "                g=g.merge(w.add_prefix(f\"{side}_\"),\n",
    "                          left_on=[f\"{side}_team\",\"season\",\"week\"],\n",
    "                          right_on=[f\"{side}_team\",f\"{side}_season\",f\"{side}_week\"],how=\"left\")\n",
    "\n",
    "            g=g.merge(_rest_days(g),on=\"game_id\",how=\"left\")\n",
    "            g=g.merge(_travel(g),on=\"game_id\",how=\"left\")\n",
    "            g=g.loc[:,~g.columns.duplicated()]\n",
    "            all.append(g)\n",
    "            print(f\"✅ Season {season} OK ({len(g)} games)\")\n",
    "        except Exception as e:\n",
    "            print(f\"⚠️ Skipped {season}: {e}\")\n",
    "\n",
    "    if not all: raise RuntimeError(\"No valid data collected.\")\n",
    "\n",
    "    df=pd.concat(all,ignore_index=True)\n",
    "    df[\"game_datetime\"]=pd.to_datetime(df[\"game_datetime\"],errors=\"coerce\").dt.tz_localize(None)\n",
    "    df=df.dropna(axis=1,how=\"all\")\n",
    "    df.to_excel(outfile,index=False)\n",
    "    print(f\"\\n✅ Saved: {outfile}\")\n",
    "    print(f\"Rows: {len(df)}, Columns: {len(df.columns)}\")\n",
    "    print(\"Columns:\", df.columns[:25].tolist())\n",
    "    return df\n",
    "\n",
    "if __name__==\"__main__\":\n",
    "    build_nfl_dataset(start_year=2015,end_year=2025)\n"
   ]
  },
  {
   "cell_type": "code",
   "execution_count": null,
   "id": "80aef4d0",
   "metadata": {},
   "outputs": [],
   "source": []
  },
  {
   "cell_type": "code",
   "execution_count": null,
   "id": "7616cefd",
   "metadata": {},
   "outputs": [],
   "source": []
  }
 ],
 "metadata": {
  "kernelspec": {
   "display_name": "Python 3",
   "language": "python",
   "name": "python3"
  },
  "language_info": {
   "codemirror_mode": {
    "name": "ipython",
    "version": 3
   },
   "file_extension": ".py",
   "mimetype": "text/x-python",
   "name": "python",
   "nbconvert_exporter": "python",
   "pygments_lexer": "ipython3",
   "version": "3.9.13"
  }
 },
 "nbformat": 4,
 "nbformat_minor": 5
}
