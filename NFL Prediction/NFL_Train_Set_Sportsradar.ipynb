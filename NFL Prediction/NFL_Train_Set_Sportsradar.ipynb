{
 "cells": [
  {
   "cell_type": "markdown",
   "id": "26469ea1-1723-4254-8993-b4a3fdf25b74",
   "metadata": {},
   "source": [
    "### Imports"
   ]
  },
  {
   "cell_type": "code",
   "execution_count": 1,
   "id": "c6244579-464e-440a-8af0-ee35fcb87fe8",
   "metadata": {},
   "outputs": [],
   "source": [
    "import requests\n",
    "import time\n",
    "import json\n",
    "from datetime import datetime"
   ]
  },
  {
   "cell_type": "markdown",
   "id": "44cff769-7bac-44c3-93fb-e1e280a4d996",
   "metadata": {},
   "source": [
    "### Consants"
   ]
  },
  {
   "cell_type": "code",
   "execution_count": 2,
   "id": "85183b65-3d1c-4a08-9c71-bda9ed425996",
   "metadata": {},
   "outputs": [],
   "source": [
    "API_KEY = \"GyGyGeRAriMKyywnoAJNkT2eFnS2xuQlxDcj6LGy\"\n",
    "season = \"2025\"\n",
    "season_type = \"REG\"\n",
    "language = \"en\"\n",
    "access_level = \"trial\"\n",
    "format = \"json\""
   ]
  },
  {
   "cell_type": "markdown",
   "id": "6572a742-bbaf-4e79-9662-5236e7056d74",
   "metadata": {},
   "source": [
    "### Game Ids"
   ]
  },
  {
   "cell_type": "code",
   "execution_count": 4,
   "id": "7da63aca-bd30-4b73-9a16-c7504161dd78",
   "metadata": {},
   "outputs": [
    {
     "name": "stdout",
     "output_type": "stream",
     "text": [
      "Error fetching schedule: 429 Client Error: Too Many Requests for url: https://api.sportradar.com/nfl/official/trial/v7/en/games/2025/REG/schedule.json\n",
      "[]\n"
     ]
    }
   ],
   "source": [
    "\n",
    "def get_game_ids(api_key, season=season, season_type=season_type):\n",
    "    url = f\"https://api.sportradar.com/nfl/official/trial/v7/en/games/{season}/{season_type}/schedule.json\"\n",
    "    headers = {\"x-api-key\": api_key}\n",
    "    \n",
    "    try:\n",
    "        response = requests.get(url, headers=headers)\n",
    "        response.raise_for_status()\n",
    "    except Exception as e:\n",
    "        print(f\"Error fetching schedule: {e}\")\n",
    "        return []\n",
    "    \n",
    "    data = response.json()\n",
    "    game_ids = []\n",
    "\n",
    "    for week in data.get(\"weeks\", []):\n",
    "        for game in week.get(\"games\", []):\n",
    "            if game.get(\"status\") == \"closed\":\n",
    "                game_ids.append(game[\"id\"])\n",
    "\n",
    "    print(f\"Found {len(game_ids)} closed games.\")\n",
    "    return game_ids\n",
    "\n",
    "# Test it\n",
    "closed_game_ids = get_game_ids(API_KEY)\n",
    "print(closed_game_ids[:5])  # print first 5 game IDs to check\n"
   ]
  },
  {
   "cell_type": "markdown",
   "id": "5b8fe5b7-7e29-4200-9ca5-f094eff2875c",
   "metadata": {},
   "source": [
    "### Teams in each game"
   ]
  },
  {
   "cell_type": "code",
   "execution_count": 5,
   "id": "96d4e953-a1b3-4467-85ac-b949e51654f0",
   "metadata": {},
   "outputs": [
    {
     "name": "stdout",
     "output_type": "stream",
     "text": [
      "Error fetching schedule: 429 Client Error: Too Many Requests for url: https://api.sportradar.com/nfl/official/trial/v7/en/games/2025/REG/schedule.json\n",
      "Failed to fetch schedule: 429\n"
     ]
    },
    {
     "data": {
      "text/plain": [
       "[]"
      ]
     },
     "execution_count": 5,
     "metadata": {},
     "output_type": "execute_result"
    }
   ],
   "source": [
    "def get_game_teams_by_ids(api_key, game_ids_list, season=season, season_type=season_type):\n",
    "    url = f\"https://api.sportradar.com/nfl/official/trial/v7/en/games/{season}/{season_type}/schedule.json\"\n",
    "    headers = {\"x-api-key\": api_key}\n",
    "    response = requests.get(url, headers=headers)\n",
    "\n",
    "    if response.status_code != 200:\n",
    "        print(f\"Failed to fetch schedule: {response.status_code}\")\n",
    "        return []\n",
    "\n",
    "    data = response.json()\n",
    "    games_info = []\n",
    "\n",
    "    for week in data.get(\"weeks\", []):\n",
    "        for game in week.get(\"games\", []):\n",
    "            if game.get(\"id\") in game_ids_list:\n",
    "                # Check keys exist before accessing\n",
    "                if 'home' in game and 'away' in game:\n",
    "                    games_info.append({\n",
    "                        \"game_id\": game[\"id\"],\n",
    "                        \"home\": game[\"home\"].get(\"alias\", \"unknown\"),\n",
    "                        \"away\": game[\"away\"].get(\"alias\", \"unknown\")\n",
    "                    })\n",
    "                else:\n",
    "                    print(f\"Missing 'home' or 'away' in game: {game.get('id', 'unknown')}\")\n",
    "    return games_info\n",
    "\n",
    "get_game_teams_by_ids(API_KEY, get_game_ids(API_KEY, season=season, season_type=season_type), season=season, season_type=season_type)[:5]\n"
   ]
  },
  {
   "cell_type": "markdown",
   "id": "943bd473-77d2-4dd6-98f6-e52a68dce783",
   "metadata": {},
   "source": [
    "### Records"
   ]
  },
  {
   "cell_type": "code",
   "execution_count": 5,
   "id": "739a7b63-ac6c-4dc2-aae9-7a26ca9888db",
   "metadata": {},
   "outputs": [
    {
     "name": "stdout",
     "output_type": "stream",
     "text": [
      "{'NYG': -3, 'WAS': -1, 'PHI': 3, 'DAL': 0, 'NO': -5, 'TB': 3, 'ATL': 0, 'CAR': 1, 'LA': 3, 'SEA': 3, 'ARI': -3, 'SF': 3, 'MIN': 0, 'CHI': 2, 'GB': 3, 'DET': 3, 'LAC': 1, 'KC': 1, 'LV': -3, 'DEN': 3, 'MIA': -5, 'NYJ': -7, 'BUF': 2, 'NE': 3, 'IND': 5, 'HOU': -2, 'TEN': -5, 'JAC': 1, 'CIN': -1, 'PIT': 2, 'CLE': -3, 'BAL': -4}\n"
     ]
    }
   ],
   "source": [
    "def get_team_records(api_key, season, season_type):\n",
    "    url = (\n",
    "        f\"https://api.sportradar.com/nfl/official/{access_level}/v7/{language}/\"\n",
    "        f\"seasons/{season}/{season_type}/standings/season.{format}?api_key={api_key}\"\n",
    "    )\n",
    "\n",
    "    response = requests.get(url)\n",
    "    if response.status_code != 200:\n",
    "        print(f\"Error fetching standings: {response.status_code}\")\n",
    "        return {}\n",
    "\n",
    "    data = response.json()\n",
    "    records = {}\n",
    "\n",
    "    # Loop through conferences, divisions, and teams\n",
    "    for conference in data.get(\"conferences\", []):\n",
    "        for division in conference.get(\"divisions\", []):\n",
    "            for team_record in division.get(\"teams\", []):\n",
    "                try:\n",
    "                    # Extract team info\n",
    "                    team_alias = team_record.get(\"alias\", \"UNK\")\n",
    "                    wins = team_record.get(\"wins\", 0)\n",
    "                    losses = team_record.get(\"losses\", 0)\n",
    "\n",
    "                    # Skip if any of these values are missing\n",
    "                    if team_alias == \"UNK\":\n",
    "                        print(\"Skipping a team without 'team' info.\")\n",
    "                        continue\n",
    "                    \n",
    "                    # Store records as net wins (wins - losses)\n",
    "                    records[team_alias] = wins - losses\n",
    "                except KeyError as e:\n",
    "                    print(f\"Skipping a team with missing data: {team_record}, Error: {e}\")\n",
    "\n",
    "    return records\n",
    "\n",
    "# Run it\n",
    "records = get_team_records(API_KEY, season, season_type)\n",
    "print(records)\n"
   ]
  },
  {
   "cell_type": "markdown",
   "id": "524554b1-abb5-4c78-97a1-22a8876c51b9",
   "metadata": {},
   "source": [
    "### Active Roster"
   ]
  },
  {
   "cell_type": "code",
   "execution_count": 9,
   "id": "f33155a5-5b52-40b0-8e4e-5e6e437d4fe9",
   "metadata": {},
   "outputs": [],
   "source": [
    "def get_active_in_game_rosters(api_key, game_ids, sleep_seconds=1):\n",
    "    \"\"\"\n",
    "    Fetches the game‐roster for each given game ID, and returns only players\n",
    "    whose `in_game_status` is \"active\" for each team (home & away).\n",
    "\n",
    "    Args:\n",
    "        api_key (str): Sportradar API key.\n",
    "        game_ids (list of str): List of game‑IDs to fetch rosters for.\n",
    "        sleep_seconds (float): Time to wait between requests to respect rate limits.\n",
    "    \n",
    "    Returns:\n",
    "        dict: game_id → {\n",
    "                    \"home_team\": alias,\n",
    "                    \"away_team\": alias,\n",
    "                    \"home_active_roster\": [ {player data} ],\n",
    "                    \"away_active_roster\": [ {player data} ]\n",
    "                }\n",
    "    \"\"\"\n",
    "    base_url = \"https://api.sportradar.com/nfl/official/trial/v7/en/games/{}/roster.json\"\n",
    "    headers = {\"x-api-key\": api_key}\n",
    "    result = {}\n",
    "\n",
    "    for game_id in game_ids:\n",
    "        url = base_url.format(game_id)\n",
    "        try:\n",
    "            resp = requests.get(url, headers=headers)\n",
    "            resp.raise_for_status()\n",
    "            data = resp.json()\n",
    "        except requests.exceptions.RequestException as e:\n",
    "            print(f\"❌ Error fetching roster for game {game_id}: {e}\")\n",
    "            continue\n",
    "\n",
    "        home = data.get(\"home\", {})\n",
    "        away = data.get(\"away\", {})\n",
    "        home_alias = home.get(\"alias\", \"UNKNOWN\")\n",
    "        away_alias = away.get(\"alias\", \"UNKNOWN\")\n",
    "\n",
    "        def filter_active(players):\n",
    "            return [\n",
    "                {\n",
    "                    \"id\": p.get(\"id\"),\n",
    "                    \"name\": p.get(\"name\"),\n",
    "                    \"position\": p.get(\"position\"),\n",
    "                    \"jersey\": p.get(\"jersey_number\"),\n",
    "                    \"status\": p.get(\"status\"),\n",
    "                    \"in_game_status\": p.get(\"in_game_status\"),\n",
    "                }\n",
    "                for p in (players or [])\n",
    "                if p.get(\"in_game_status\") == \"active\"\n",
    "            ]\n",
    "\n",
    "        home_active = filter_active(home.get(\"players\", []))\n",
    "        away_active = filter_active(away.get(\"players\", []))\n",
    "\n",
    "        result[game_id] = {\n",
    "            \"home_team\": home_alias,\n",
    "            \"away_team\": away_alias,\n",
    "            \"home_active_roster\": home_active,\n",
    "            \"away_active_roster\": away_active\n",
    "        }\n",
    "\n",
    "        print(f\"✅ Processed game {game_id}: {len(home_active)} home / {len(away_active)} away active players\")\n",
    "        time.sleep(3)\n",
    "        \n",
    "\n",
    "    print(\"✅ Saved active in-game rosters to in_game_rosters.json\")\n",
    "    return result\n",
    "\n",
    "\n",
    "\n",
    "\n",
    "\n"
   ]
  },
  {
   "cell_type": "code",
   "execution_count": 10,
   "id": "fef05233-d575-44a7-a108-16cabb6267f3",
   "metadata": {},
   "outputs": [
    {
     "name": "stdout",
     "output_type": "stream",
     "text": [
      "Found 108 closed games.\n",
      "✅ Processed game 56779053-89da-4939-bc22-9669ae1fe05a: 72 home / 79 away active players\n",
      "✅ Processed game f895a349-36ec-4b9a-b7a3-7830ea95f07a: 78 home / 78 away active players\n",
      "✅ Processed game 0ab5e37d-0f79-40c6-b536-ff88c7be5286: 77 home / 72 away active players\n",
      "✅ Saved active in-game rosters to in_game_rosters.json\n",
      "\n",
      "Game ID: 56779053-89da-4939-bc22-9669ae1fe05a\n",
      "PHI Active Players: 72\n",
      "DAL Active Players: 79\n",
      "Sample Home Player: {'id': 'f1a6c070-572e-4728-b5ab-7765bb31f9e2', 'name': 'Tyler Steen', 'position': 'OL', 'jersey': None, 'status': 'started', 'in_game_status': 'active'}\n",
      "Sample Away Player: {'id': 'a72ea15b-5199-4101-a300-846e1c655add', 'name': 'CeeDee Lamb', 'position': 'WR', 'jersey': None, 'status': 'started', 'in_game_status': 'active'}\n",
      "\n",
      "Game ID: f895a349-36ec-4b9a-b7a3-7830ea95f07a\n",
      "LAC Active Players: 78\n",
      "KC Active Players: 78\n",
      "Sample Home Player: {'id': 'f475c020-23d1-11f0-a1b4-0388130a8f25', 'name': 'Garmon Randolph', 'position': 'OLB', 'jersey': None, 'status': 'dnp', 'in_game_status': 'active'}\n",
      "Sample Away Player: {'id': '46190530-23ab-11f0-a8c1-91b88a8cabac', 'name': 'Jake Briningstool', 'position': 'TE', 'jersey': None, 'status': 'dnp', 'in_game_status': 'active'}\n",
      "\n",
      "Game ID: 0ab5e37d-0f79-40c6-b536-ff88c7be5286\n",
      "ATL Active Players: 77\n",
      "TB Active Players: 72\n",
      "Sample Home Player: {'id': 'a6a3e310-2474-11f0-9d75-5b9f469eea9d', 'name': 'Joshua Gray', 'position': 'OL', 'jersey': None, 'status': 'dnp', 'in_game_status': 'active'}\n",
      "Sample Away Player: {'id': 'e39240b4-cac5-453f-b99f-6bbbdd1c9c82', 'name': 'Tristan Wirfs', 'position': 'T', 'jersey': None, 'status': 'deactivated', 'in_game_status': 'active'}\n"
     ]
    }
   ],
   "source": [
    "# Example: Pull rosters for 3 closed games\n",
    "closed_game_ids = get_game_ids(API_KEY)[:3]\n",
    "\n",
    "in_game_rosters = get_active_in_game_rosters(API_KEY, closed_game_ids[:3])\n",
    "\n",
    "# Print results for each game\n",
    "for game_id, info in in_game_rosters.items():\n",
    "    print(f\"\\nGame ID: {game_id}\")\n",
    "    print(f\"{info['home_team']} Active Players: {len(info['home_active_roster'])}\")\n",
    "    print(f\"{info['away_team']} Active Players: {len(info['away_active_roster'])}\")\n",
    "\n",
    "    print(\"Sample Home Player:\", info['home_active_roster'][0] if info['home_active_roster'] else \"None\")\n",
    "    print(\"Sample Away Player:\", info['away_active_roster'][0] if info['away_active_roster'] else \"None\")\n"
   ]
  },
  {
   "cell_type": "markdown",
   "id": "347864ac-5da9-4f0d-b57e-15252af2294d",
   "metadata": {},
   "source": [
    "### Datetime"
   ]
  },
  {
   "cell_type": "code",
   "execution_count": 11,
   "id": "418d3dba-7869-4d75-8519-1dedf50ee7cd",
   "metadata": {},
   "outputs": [],
   "source": [
    "import requests\n",
    "from datetime import datetime\n",
    "import time\n",
    "\n",
    "def get_game_datetimes(api_key, season=\"2025\", season_type=\"REG\"):\n",
    "    \"\"\"\n",
    "    Retrieves the date and time (as datetime objects) of all games for the given NFL season.\n",
    "    \n",
    "    Args:\n",
    "        api_key (str): Sportradar API key.\n",
    "        season (str): Season year, e.g., \"2025\".\n",
    "        season_type (str): Season type, e.g., \"REG\", \"PRE\", or \"POST\".\n",
    "    \n",
    "    Returns:\n",
    "        dict: Mapping of game_id → {\n",
    "            'home': team_alias,\n",
    "            'away': team_alias,\n",
    "            'scheduled': datetime object (UTC)\n",
    "        }\n",
    "    \"\"\"\n",
    "    url = f\"https://api.sportradar.com/nfl/official/trial/v7/en/games/{season}/{season_type}/schedule.json\"\n",
    "    headers = {\"x-api-key\": api_key}\n",
    "    \n",
    "    try:\n",
    "        response = requests.get(url, headers=headers)\n",
    "        response.raise_for_status()\n",
    "    except requests.RequestException as e:\n",
    "        print(f\"❌ Error fetching schedule: {e}\")\n",
    "        return {}\n",
    "\n",
    "    data = response.json()\n",
    "    games_by_id = {}\n",
    "\n",
    "    for week in data.get(\"weeks\", []):\n",
    "        for game in week.get(\"games\", []):\n",
    "            game_id = game.get(\"id\")\n",
    "            scheduled_str = game.get(\"scheduled\")  # ISO 8601 UTC time string\n",
    "            if not scheduled_str:\n",
    "                continue\n",
    "\n",
    "            try:\n",
    "                scheduled_dt = datetime.fromisoformat(scheduled_str.replace(\"Z\", \"+00:00\"))  # Parse to aware datetime\n",
    "            except Exception as e:\n",
    "                print(f\"⚠️ Could not parse date for game {game_id}: {e}\")\n",
    "                continue\n",
    "\n",
    "            games_by_id[game_id] = {\n",
    "                \"home\": game.get(\"home\", {}).get(\"alias\", \"UNK\"),\n",
    "                \"away\": game.get(\"away\", {}).get(\"alias\", \"UNK\"),\n",
    "                \"scheduled\": scheduled_dt,\n",
    "            }\n",
    "\n",
    "    print(f\"✅ Retrieved {len(games_by_id)} games with date/time info.\")\n",
    "    return games_by_id\n"
   ]
  },
  {
   "cell_type": "code",
   "execution_count": 12,
   "id": "fb9be70b-520e-425c-9568-38ebcaa21dfa",
   "metadata": {},
   "outputs": [
    {
     "name": "stdout",
     "output_type": "stream",
     "text": [
      "✅ Retrieved 272 games with date/time info.\n",
      "Game ID: 56779053-89da-4939-bc22-9669ae1fe05a\n",
      "DAL @ PHI on 2025-09-05 00:20:00 UTC\n",
      "Game ID: f895a349-36ec-4b9a-b7a3-7830ea95f07a\n",
      "KC @ LAC on 2025-09-06 00:00:00 UTC\n",
      "Game ID: 0ab5e37d-0f79-40c6-b536-ff88c7be5286\n",
      "TB @ ATL on 2025-09-07 17:00:00 UTC\n",
      "Game ID: 56ae5686-bcc1-41a5-8988-66c3c7741a05\n",
      "PIT @ NYJ on 2025-09-07 17:00:00 UTC\n",
      "Game ID: 5894a475-84a9-4aa1-b505-e72281da8b1d\n",
      "MIA @ IND on 2025-09-07 17:00:00 UTC\n"
     ]
    }
   ],
   "source": [
    "game_datetimes = get_game_datetimes(API_KEY)\n",
    "\n",
    "# Print a few results\n",
    "for gid, info in list(game_datetimes.items())[:5]:\n",
    "    print(f\"Game ID: {gid}\")\n",
    "    print(f\"{info['away']} @ {info['home']} on {info['scheduled'].strftime('%Y-%m-%d %H:%M:%S %Z')}\")\n"
   ]
  },
  {
   "cell_type": "markdown",
   "id": "f0561772-cc7e-47d9-acf9-4174c0dce6f2",
   "metadata": {},
   "source": [
    "### Rush Yards"
   ]
  },
  {
   "cell_type": "code",
   "execution_count": 14,
   "id": "e95f11c7-b67b-4428-9a4f-01d1193074b6",
   "metadata": {},
   "outputs": [],
   "source": [
    "import requests\n",
    "import time\n",
    "import random\n",
    "\n",
    "def get_schedule_with_key_in_url(api_key, season=\"2025\", season_type=\"REG\"):\n",
    "    \"\"\"\n",
    "    Fetch the NFL schedule from Sportradar API.\n",
    "    Args:\n",
    "        api_key (str): API key for accessing the Sportradar data.\n",
    "        season (str): Season year, default '2025'.\n",
    "        season_type (str): Season type, default 'REG'.\n",
    "    Returns:\n",
    "        dict: JSON data with the NFL schedule.\n",
    "    \"\"\"\n",
    "    url_schedule = f\"https://api.sportradar.com/nfl/official/trial/v7/en/games/{season}/{season_type}/schedule.json\"\n",
    "    headers = {\"x-api-key\": api_key}\n",
    "    try:\n",
    "        response = requests.get(url_schedule, headers=headers)\n",
    "        response.raise_for_status()\n",
    "        return response.json()\n",
    "    except requests.exceptions.HTTPError as err:\n",
    "        if err.response.status_code == 403:\n",
    "            print(f\"Access forbidden. Response: {err.response.text}\")\n",
    "        else:\n",
    "            print(f\"Error fetching schedule: {err}\")\n",
    "        return None\n",
    "\n",
    "def get_game_boxscore(api_key, game_id):\n",
    "    \"\"\"\n",
    "    Fetch the boxscore for a specific game.\n",
    "    Args:\n",
    "        api_key (str): API key for accessing the Sportradar data.\n",
    "        game_id (str): Unique game identifier.\n",
    "    Returns:\n",
    "        dict: Boxscore data for the game, or 'NA' if not available.\n",
    "    \"\"\"\n",
    "    url_boxscore = f\"https://api.sportradar.com/nfl/official/trial/v7/en/games/{game_id}/boxscore.json\"\n",
    "    headers = {\"x-api-key\": api_key}\n",
    "    \n",
    "    try:\n",
    "        response = requests.get(url_boxscore, headers=headers)\n",
    "        response.raise_for_status()\n",
    "        boxscore_data = response.json()\n",
    "\n",
    "        # Check if we have a valid game response\n",
    "        if \"game\" not in boxscore_data:\n",
    "            print(f\"Game {game_id}: No game data found.\")\n",
    "            return {\"home_avg_rushing_yards\": \"NA\", \"away_avg_rushing_yards\": \"NA\"}\n",
    "\n",
    "        # Debug: log the entire response for inspection\n",
    "        print(f\"Boxscore Data for {game_id}: {boxscore_data}\")\n",
    "\n",
    "        # Extract rushing yards for the home and away teams\n",
    "        teams_stats = boxscore_data.get(\"game\", {}).get(\"teams\", [])\n",
    "        rushing_stats = {}\n",
    "\n",
    "        for team_stat in teams_stats:\n",
    "            alias = team_stat.get(\"alias\")\n",
    "            rushing_yards = team_stat.get(\"statistics\", {}).get(\"rushing_yards\", \"NA\")\n",
    "            rushing_stats[alias] = rushing_yards\n",
    "\n",
    "        # Check if rushing yards are missing in the response and log\n",
    "        if not rushing_stats:\n",
    "            print(f\"Game {game_id}: Rushing stats missing for home and away teams.\")\n",
    "        \n",
    "        return rushing_stats\n",
    "\n",
    "    except requests.exceptions.HTTPError as err:\n",
    "        if err.response.status_code == 404:\n",
    "            print(f\"Game {game_id} not found, skipping.\")\n",
    "        elif err.response.status_code == 429:\n",
    "            print(\"Too many requests. Sleeping for 3 seconds...\")\n",
    "            time.sleep(3)\n",
    "        else:\n",
    "            print(f\"Failed to fetch stats for game {game_id}: {err}\")\n",
    "        return {\"home_avg_rushing_yards\": \"NA\", \"away_avg_rushing_yards\": \"NA\"}\n",
    "\n",
    "def process_games(api_key, season=\"2025\", season_type=\"REG\"):\n",
    "    \"\"\"\n",
    "    Process and fetch rushing yards for random games.\n",
    "    Args:\n",
    "        api_key (str): API key for accessing the Sportradar data.\n",
    "        season (str): Season year, default '2025'.\n",
    "        season_type (str): Season type, default 'REG'.\n",
    "    Returns:\n",
    "        list: A list of processed game stats with rushing yards data.\n",
    "    \"\"\"\n",
    "    schedule_data = get_schedule_with_key_in_url(api_key, season, season_type)\n",
    "    \n",
    "    if not schedule_data:\n",
    "        print(\"Failed to retrieve schedule data.\")\n",
    "        return []\n",
    "    \n",
    "    processed_games = []\n",
    "\n",
    "    # Process a random selection of 5 games\n",
    "    game_ids = [game.get(\"id\") for week in schedule_data.get(\"weeks\", []) for game in week.get(\"games\", [])]\n",
    "    random_game_ids = random.sample(game_ids, 5)\n",
    "\n",
    "    for game_id in random_game_ids:\n",
    "        home_team = next((game.get(\"home\", {}).get(\"alias\") for week in schedule_data.get(\"weeks\", []) for game in week.get(\"games\", []) if game.get(\"id\") == game_id), None)\n",
    "        away_team = next((game.get(\"away\", {}).get(\"alias\") for week in schedule_data.get(\"weeks\", []) for game in week.get(\"games\", []) if game.get(\"id\") == game_id), None)\n",
    "\n",
    "        if home_team and away_team:\n",
    "            rushing_stats = get_game_boxscore(api_key, game_id)\n",
    "\n",
    "            processed_games.append({\n",
    "                \"game_id\": game_id,\n",
    "                \"home_team\": home_team,\n",
    "                \"away_team\": away_team,\n",
    "                \"home_avg_rushing_yards\": rushing_stats.get(home_team, \"NA\"),\n",
    "                \"away_avg_rushing_yards\": rushing_stats.get(away_team, \"NA\")\n",
    "            })\n",
    "        \n",
    "        # To avoid hitting rate limits, add a short sleep between requests\n",
    "        time.sleep(0.5)\n",
    "\n",
    "    return processed_games\n",
    "\n",
    "\n"
   ]
  },
  {
   "cell_type": "code",
   "execution_count": 15,
   "id": "54ede099-0ef2-41e8-9784-6b310c49e777",
   "metadata": {
    "scrolled": true
   },
   "outputs": [
    {
     "name": "stdout",
     "output_type": "stream",
     "text": [
      "Game 4f446eeb-1c14-436b-9321-e1c7b6276da5: No game data found.\n",
      "Game cc18ff20-f2e2-4d07-9ed1-40320efb9e7b: No game data found.\n",
      "Too many requests. Sleeping for 3 seconds...\n",
      "Game b629b0e9-5448-4223-8dd2-e924aabe0183: No game data found.\n",
      "Game 8ea39b7e-0170-41fa-88db-36179a59c735: No game data found.\n",
      "{'game_id': '4f446eeb-1c14-436b-9321-e1c7b6276da5', 'home_team': 'SF', 'away_team': 'JAC', 'home_avg_rushing_yards': 'NA', 'away_avg_rushing_yards': 'NA'}\n",
      "{'game_id': 'cc18ff20-f2e2-4d07-9ed1-40320efb9e7b', 'home_team': 'IND', 'away_team': 'SF', 'home_avg_rushing_yards': 'NA', 'away_avg_rushing_yards': 'NA'}\n",
      "{'game_id': '926f7b80-6936-4b74-bccf-a98e914df0d5', 'home_team': 'NYJ', 'away_team': 'CAR', 'home_avg_rushing_yards': 'NA', 'away_avg_rushing_yards': 'NA'}\n",
      "{'game_id': 'b629b0e9-5448-4223-8dd2-e924aabe0183', 'home_team': 'SEA', 'away_team': 'HOU', 'home_avg_rushing_yards': 'NA', 'away_avg_rushing_yards': 'NA'}\n",
      "{'game_id': '8ea39b7e-0170-41fa-88db-36179a59c735', 'home_team': 'DEN', 'away_team': 'DAL', 'home_avg_rushing_yards': 'NA', 'away_avg_rushing_yards': 'NA'}\n"
     ]
    }
   ],
   "source": [
    "games = process_games(API_KEY)\n",
    "\n",
    "for game in games:\n",
    "    print(game)"
   ]
  },
  {
   "cell_type": "code",
   "execution_count": 63,
   "id": "19cf9845-34bb-446b-9c1f-643497d1e4c7",
   "metadata": {},
   "outputs": [
    {
     "data": {
      "text/plain": [
       "[{'game_id': '54d3eead-8407-44ca-a545-53754b4c00e8',\n",
       "  'home_avg_rushing_yards': 'NA',\n",
       "  'away_avg_rushing_yards': 'NA'},\n",
       " {'game_id': 'c504c9b7-1b1b-487f-8d28-160fb6b34c54',\n",
       "  'home_avg_rushing_yards': 'NA',\n",
       "  'away_avg_rushing_yards': 'NA'},\n",
       " {'game_id': '4c314a4e-d99b-42ef-9ecb-52ad746d4dfa',\n",
       "  'home_avg_rushing_yards': 'NA',\n",
       "  'away_avg_rushing_yards': 'NA'},\n",
       " {'game_id': 'f4d94f7a-8a51-4b18-b58c-11008a76f1fb',\n",
       "  'home_avg_rushing_yards': 'NA',\n",
       "  'away_avg_rushing_yards': 'NA'},\n",
       " {'game_id': 'e9d69acd-909d-4b77-8f53-16ffc8885d6a',\n",
       "  'home_avg_rushing_yards': 'NA',\n",
       "  'away_avg_rushing_yards': 'NA'}]"
      ]
     },
     "execution_count": 63,
     "metadata": {},
     "output_type": "execute_result"
    }
   ],
   "source": [
    "game_stats"
   ]
  },
  {
   "cell_type": "code",
   "execution_count": 32,
   "id": "0e2177c5-7fab-4f71-aadf-e805f9002755",
   "metadata": {},
   "outputs": [
    {
     "name": "stdout",
     "output_type": "stream",
     "text": [
      "Rate limit hit. Retrying in 1 seconds...\n",
      "Rate limit hit. Retrying in 2 seconds...\n",
      "Rate limit hit. Retrying in 4 seconds...\n",
      "Rate limit hit. Retrying in 8 seconds...\n",
      "Rate limit hit. Retrying in 16 seconds...\n",
      "Exceeded maximum retries.\n",
      "Could not retrieve rushing yards.\n"
     ]
    }
   ],
   "source": [
    "import requests\n",
    "import time\n",
    "\n",
    "API_KEY = \"GyGyGeRAriMKyywnoAJNkT2eFnS2xuQlxDcj6LGy\"\n",
    "access_level = \"trial\"\n",
    "language = \"en\"\n",
    "game_id = \"c504c9b7-1b1b-487f-8d28-160fb6b34c54\"  # Example game ID, replace with the actual game ID\n",
    "\n",
    "def get_rushing_yards(api_key, game_id, retries=5, delay=1):\n",
    "    url = f\"https://api.sportradar.com/nfl/official/{access_level}/v7/{language}/games/{game_id}/boxscore.json\"\n",
    "    headers = {\"x-api-key\": api_key}\n",
    "\n",
    "    for attempt in range(retries):\n",
    "        try:\n",
    "            response = requests.get(url, headers=headers)\n",
    "            response.raise_for_status()  # Raise an exception if status code is not 200\n",
    "            \n",
    "            # Parse the JSON response\n",
    "            data = response.json()\n",
    "\n",
    "            # Extract rushing yards for both teams\n",
    "            home_team_rushing = 0\n",
    "            away_team_rushing = 0\n",
    "\n",
    "            if 'home' in data['game'] and 'away' in data['game']:\n",
    "                home_team_rushing = data['game']['home']['statistics'].get('rushing', {}).get('yards', 0)\n",
    "                away_team_rushing = data['game']['away']['statistics'].get('rushing', {}).get('yards', 0)\n",
    "\n",
    "            return home_team_rushing, away_team_rushing\n",
    "\n",
    "        except requests.exceptions.RequestException as e:\n",
    "            if response.status_code == 429:  # Rate limit error\n",
    "                print(f\"Rate limit hit. Retrying in {delay} seconds...\")\n",
    "                time.sleep(delay)  # Wait before retrying\n",
    "                delay *= 2  # Exponential backoff\n",
    "            else:\n",
    "                print(f\"Error fetching boxscore: {e}\")\n",
    "                return None\n",
    "\n",
    "    print(\"Exceeded maximum retries.\")\n",
    "    return None\n",
    "\n",
    "# Example usage:\n",
    "rushing_yards = get_rushing_yards(API_KEY, game_id)\n",
    "\n",
    "if rushing_yards is None:\n",
    "    print(\"Could not retrieve rushing yards.\")\n",
    "else:\n",
    "    home_rushing, away_rushing = rushing_yards\n",
    "    print(f\"Home Team Rushing Yards: {home_rushing}\")\n",
    "    print(f\"Away Team Rushing Yards: {away_rushing}\")\n"
   ]
  },
  {
   "cell_type": "markdown",
   "id": "1fd060ac-fa7e-480b-a5d0-6b42a74cb010",
   "metadata": {},
   "source": []
  }
 ],
 "metadata": {
  "kernelspec": {
   "display_name": "Python [conda env:base] *",
   "language": "python",
   "name": "conda-base-py"
  },
  "language_info": {
   "codemirror_mode": {
    "name": "ipython",
    "version": 3
   },
   "file_extension": ".py",
   "mimetype": "text/x-python",
   "name": "python",
   "nbconvert_exporter": "python",
   "pygments_lexer": "ipython3",
   "version": "3.13.5"
  }
 },
 "nbformat": 4,
 "nbformat_minor": 5
}
